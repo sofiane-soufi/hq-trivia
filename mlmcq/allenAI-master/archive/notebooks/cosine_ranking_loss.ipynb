{
 "cells": [
  {
   "cell_type": "code",
   "execution_count": 1,
   "metadata": {
    "collapsed": false
   },
   "outputs": [],
   "source": [
    "import theano.tensor as T\n",
    "from theano import function\n",
    "\n",
    "def mean(x, axis=None, keepdims=False):\n",
    "    return T.mean(x, axis=axis, keepdims=keepdims)\n",
    "\n",
    "def l2_normalize(x, axis):\n",
    "    norm = T.sqrt(T.sum(T.square(x), axis=axis, keepdims=True))\n",
    "    return x / norm\n",
    "\n",
    "def cosine_similarity(y_true, y_pred):\n",
    "    assert y_true.ndim == 2\n",
    "    assert y_pred.ndim == 2\n",
    "    y_true = l2_normalize(y_true, axis=1)\n",
    "    y_pred = l2_normalize(y_pred, axis=1)\n",
    "    return T.sum(y_true * y_pred, axis=1, keepdims=False)\n",
    "\n",
    "def cosine_ranking_loss(y_true, y_pred):\n",
    "    MARGIN = 0.01\n",
    "    \n",
    "    q = y_pred[0::3]\n",
    "    a_correct = y_pred[1::3]\n",
    "    a_incorrect = y_pred[2::3]\n",
    "\n",
    "    return mean(T.maximum(0., MARGIN - cosine_similarity(q, a_correct) + cosine_similarity(q, a_incorrect)) - y_true[0]*0, axis=-1)"
   ]
  },
  {
   "cell_type": "markdown",
   "metadata": {},
   "source": [
    "- y_true[0]*0 is an ugly hack to bypass UnusedInputError (i.e you cannot set on_unused_input='ignore' in model.compile)"
   ]
  },
  {
   "cell_type": "markdown",
   "metadata": {},
   "source": [
    "### Test cosine_similarity"
   ]
  },
  {
   "cell_type": "code",
   "execution_count": 2,
   "metadata": {
    "collapsed": true
   },
   "outputs": [],
   "source": [
    "x = T.dmatrix('x')\n",
    "y = T.dmatrix('y')\n",
    "z = cosine_similarity(x, y)\n",
    "f = function([x, y], z)"
   ]
  },
  {
   "cell_type": "code",
   "execution_count": 3,
   "metadata": {
    "collapsed": false
   },
   "outputs": [
    {
     "data": {
      "text/plain": [
       "array([ 1.        ,  0.        ,  1.        , -0.62748384])"
      ]
     },
     "execution_count": 3,
     "metadata": {},
     "output_type": "execute_result"
    }
   ],
   "source": [
    "y = [[1, 0], [1, 0], [3, 4], [1.2, -3.2]]\n",
    "preds = [[1, 0], [0, 1], [3, 4], [1.3, 2.2]]\n",
    "\n",
    "f(y, preds)"
   ]
  },
  {
   "cell_type": "code",
   "execution_count": 4,
   "metadata": {
    "collapsed": false
   },
   "outputs": [
    {
     "name": "stdout",
     "output_type": "stream",
     "text": [
      "1.0\n",
      "0.0\n",
      "1.0\n",
      "-0.627483841199\n"
     ]
    }
   ],
   "source": [
    "from scipy import spatial\n",
    "\n",
    "for i in xrange(len(y)):\n",
    "    print 1.0 - spatial.distance.cosine(y[i], preds[i])"
   ]
  },
  {
   "cell_type": "markdown",
   "metadata": {},
   "source": [
    "### Test cosine ranking loss"
   ]
  },
  {
   "cell_type": "code",
   "execution_count": 5,
   "metadata": {
    "collapsed": false
   },
   "outputs": [],
   "source": [
    "x = T.dmatrix('x')\n",
    "y = T.dmatrix('y')\n",
    "z = cosine_ranking_loss(x, y)\n",
    "#f = function([x, y], z, on_unused_input='ignore')\n",
    "f = function([x, y], z)"
   ]
  },
  {
   "cell_type": "code",
   "execution_count": 6,
   "metadata": {
    "collapsed": false
   },
   "outputs": [
    {
     "data": {
      "text/plain": [
       "array(0.505)"
      ]
     },
     "execution_count": 6,
     "metadata": {},
     "output_type": "execute_result"
    }
   ],
   "source": [
    "preds = [[1, 0], [1, 0], [0, 1], [1, 0], [0, 1], [1, 0]]\n",
    "y = [[1, 2], [3, 4], [5, 6], [7, 8], [9, 1], [3, 4]]\n",
    "\n",
    "f(y, preds)"
   ]
  },
  {
   "cell_type": "code",
   "execution_count": 7,
   "metadata": {
    "collapsed": false
   },
   "outputs": [
    {
     "data": {
      "text/plain": [
       "0.505"
      ]
     },
     "execution_count": 7,
     "metadata": {},
     "output_type": "execute_result"
    }
   ],
   "source": [
    "(0 + 1.01)/2"
   ]
  },
  {
   "cell_type": "markdown",
   "metadata": {},
   "source": [
    "### Test ranking loss on minimal example"
   ]
  },
  {
   "cell_type": "code",
   "execution_count": 8,
   "metadata": {
    "collapsed": false
   },
   "outputs": [
    {
     "name": "stdout",
     "output_type": "stream",
     "text": [
      "Using Theano backend.\n"
     ]
    }
   ],
   "source": [
    "from keras.layers.embeddings import Embedding\n",
    "from keras.layers.core import Dense, Merge, TimeDistributedMerge\n",
    "from keras.layers import recurrent\n",
    "from keras.models import Sequential\n",
    "from keras.layers.convolutional import MaxPooling1D\n",
    "from keras.preprocessing.sequence import pad_sequences\n",
    "from keras.preprocessing.text import Tokenizer\n",
    "\n",
    "import numpy as np"
   ]
  },
  {
   "cell_type": "code",
   "execution_count": 9,
   "metadata": {
    "collapsed": false
   },
   "outputs": [
    {
     "name": "stdout",
     "output_type": "stream",
     "text": [
      "Creating data...\n"
     ]
    }
   ],
   "source": [
    "print \"Creating data...\"\n",
    "\n",
    "data = []\n",
    "for i in xrange(1000):\n",
    "    q0 = np.random.choice(range(10))\n",
    "    q1 = np.random.choice(range(10))\n",
    "    q = str(q0) + \"+\" + str(q1)\n",
    "    a_correct = str(q0 + q1)\n",
    "    a_incorrect = str(np.random.choice(range(19)))\n",
    "    data.append(q)\n",
    "    data.append(a_correct)\n",
    "    data.append(a_incorrect)"
   ]
  },
  {
   "cell_type": "code",
   "execution_count": 10,
   "metadata": {
    "collapsed": false
   },
   "outputs": [
    {
     "name": "stdout",
     "output_type": "stream",
     "text": [
      "Sample data:\n",
      "7+4\n",
      "11\n",
      "8\n"
     ]
    }
   ],
   "source": [
    "print \"Sample data:\"\n",
    "for i in xrange(3):\n",
    "    print data[i]"
   ]
  },
  {
   "cell_type": "code",
   "execution_count": 11,
   "metadata": {
    "collapsed": false
   },
   "outputs": [
    {
     "name": "stdout",
     "output_type": "stream",
     "text": [
      "Tokenizing data...\n",
      "Converting text to sequences...\n"
     ]
    }
   ],
   "source": [
    "print \"Tokenizing data...\"\n",
    "tokenizer = Tokenizer(filters='', lower=False)\n",
    "char_data = [' '.join(list(x)) for x in data]\n",
    "tokenizer.fit_on_texts(char_data)\n",
    "\n",
    "print \"Converting text to sequences...\"\n",
    "data_seq = tokenizer.texts_to_sequences(char_data)"
   ]
  },
  {
   "cell_type": "code",
   "execution_count": 12,
   "metadata": {
    "collapsed": false
   },
   "outputs": [
    {
     "name": "stdout",
     "output_type": "stream",
     "text": [
      "Sample sequences:\n",
      "[3, 2, 10]\n",
      "[1, 1]\n",
      "[9]\n"
     ]
    }
   ],
   "source": [
    "print \"Sample sequences:\"\n",
    "for i in xrange(3):\n",
    "    print data_seq[i]"
   ]
  },
  {
   "cell_type": "code",
   "execution_count": 13,
   "metadata": {
    "collapsed": false
   },
   "outputs": [
    {
     "name": "stdout",
     "output_type": "stream",
     "text": [
      "Questions maxlen: 3\n",
      "Padding sequences...\n",
      "Sample padded sequences:\n",
      "[ 3  2 10]\n",
      "[0 1 1]\n",
      "[0 0 9]\n"
     ]
    }
   ],
   "source": [
    "data_maxlen = max([len(q) for q in data_seq])\n",
    "print \"Questions maxlen:\", data_maxlen\n",
    "\n",
    "print \"Padding sequences...\"\n",
    "data_seq_pad = pad_sequences(data_seq, maxlen=data_maxlen) \n",
    "\n",
    "print \"Sample padded sequences:\"\n",
    "for i in xrange(3):\n",
    "    print data_seq_pad[i]\n"
   ]
  },
  {
   "cell_type": "code",
   "execution_count": 14,
   "metadata": {
    "collapsed": false
   },
   "outputs": [
    {
     "name": "stdout",
     "output_type": "stream",
     "text": [
      "Creating model...\n",
      "Vocab_size:  12\n",
      "Timesteps:  3\n"
     ]
    }
   ],
   "source": [
    "print \"Creating model...\"\n",
    "\n",
    "vocab_size = len(tokenizer.word_index) + 1\n",
    "embed_size = 5\n",
    "hidden_size = 10\n",
    "timesteps = data_maxlen\n",
    "RNN = recurrent.LSTM\n",
    "\n",
    "print \"Vocab_size: \", vocab_size\n",
    "print \"Timesteps: \", timesteps\n",
    "\n",
    "model = Sequential()\n",
    "model.add(Embedding(vocab_size, embed_size, mask_zero=True))\n",
    "model.add(RNN(hidden_size, return_sequences=False))"
   ]
  },
  {
   "cell_type": "code",
   "execution_count": 15,
   "metadata": {
    "collapsed": false
   },
   "outputs": [
    {
     "name": "stdout",
     "output_type": "stream",
     "text": [
      "--------------------------------------------------------------------------------\n",
      "Initial input shape: (None, 12)\n",
      "--------------------------------------------------------------------------------\n",
      "Layer (name)                  Output Shape                  Param #             \n",
      "--------------------------------------------------------------------------------\n",
      "Embedding (Unnamed)           (None, None, 5)               60                  \n",
      "LSTM (Unnamed)                (None, 10)                    640                 \n",
      "--------------------------------------------------------------------------------\n",
      "Total params: 700\n",
      "--------------------------------------------------------------------------------\n"
     ]
    }
   ],
   "source": [
    "model.summary()"
   ]
  },
  {
   "cell_type": "code",
   "execution_count": 16,
   "metadata": {
    "collapsed": false
   },
   "outputs": [
    {
     "name": "stdout",
     "output_type": "stream",
     "text": [
      "Compiling model...\n"
     ]
    },
    {
     "name": "stderr",
     "output_type": "stream",
     "text": [
      "C:\\Users\\Tanel\\Anaconda\\lib\\site-packages\\theano\\scan_module\\scan_perform_ext.py:133: RuntimeWarning: numpy.ndarray size changed, may indicate binary incompatibility\n",
      "  from scan_perform.scan_perform import *\n"
     ]
    }
   ],
   "source": [
    "print \"Compiling model...\"\n",
    "model.compile(optimizer=\"adam\", loss=cosine_ranking_loss)"
   ]
  },
  {
   "cell_type": "code",
   "execution_count": 17,
   "metadata": {
    "collapsed": false
   },
   "outputs": [
    {
     "name": "stdout",
     "output_type": "stream",
     "text": [
      "Epoch 1/10\n",
      "3000/3000 [==============================] - 2s - loss: 0.0278     \n",
      "Epoch 2/10\n",
      "3000/3000 [==============================] - 2s - loss: 0.0076     \n",
      "Epoch 3/10\n",
      "3000/3000 [==============================] - 2s - loss: 0.0054     \n",
      "Epoch 4/10\n",
      "3000/3000 [==============================] - 2s - loss: 0.0039     \n",
      "Epoch 5/10\n",
      "3000/3000 [==============================] - 3s - loss: 0.0033     \n",
      "Epoch 6/10\n",
      "3000/3000 [==============================] - 3s - loss: 0.0029     \n",
      "Epoch 7/10\n",
      "3000/3000 [==============================] - 3s - loss: 0.0026     \n",
      "Epoch 8/10\n",
      "3000/3000 [==============================] - 3s - loss: 0.0023     \n",
      "Epoch 9/10\n",
      "3000/3000 [==============================] - 3s - loss: 0.0022     \n",
      "Epoch 10/10\n",
      "3000/3000 [==============================] - 3s - loss: 0.0021     \n"
     ]
    },
    {
     "data": {
      "text/plain": [
       "<keras.callbacks.History at 0x2a0c39e8>"
      ]
     },
     "execution_count": 17,
     "metadata": {},
     "output_type": "execute_result"
    }
   ],
   "source": [
    "_ = [0 for i in xrange(len(data_seq_pad))]\n",
    "model.fit(data_seq_pad, _, batch_size=6, nb_epoch=10, shuffle=False, validation_split=0.0)"
   ]
  },
  {
   "cell_type": "code",
   "execution_count": 20,
   "metadata": {
    "collapsed": false
   },
   "outputs": [
    {
     "name": "stdout",
     "output_type": "stream",
     "text": [
      "0.986593294744\n",
      "0.975802469769\n"
     ]
    }
   ],
   "source": [
    "test_seq = tokenizer.texts_to_sequences(['4 + 0', '4', '6'])\n",
    "test_seq_pad = pad_sequences(test_seq, maxlen=data_maxlen)\n",
    "\n",
    "out = model.predict(test_seq_pad, batch_size=3, verbose=0)\n",
    "print 1.0 - spatial.distance.cosine(out[0], out[1])\n",
    "print 1.0 - spatial.distance.cosine(out[0], out[2])"
   ]
  },
  {
   "cell_type": "markdown",
   "metadata": {},
   "source": [
    "### Visualize embeddings"
   ]
  },
  {
   "cell_type": "code",
   "execution_count": 21,
   "metadata": {
    "collapsed": true
   },
   "outputs": [],
   "source": [
    "from sklearn.manifold import TSNE\n",
    "from sklearn.decomposition import PCA\n",
    "\n",
    "#model_dr = TSNE(n_components=2, random_state=0)\n",
    "model_dr = PCA(n_components=2)\n",
    "\n",
    "train_out = model.predict(data_seq_pad[:100], batch_size=10, verbose=0)\n",
    "X_dr = model_dr.fit_transform(train_out)"
   ]
  },
  {
   "cell_type": "code",
   "execution_count": 22,
   "metadata": {
    "collapsed": false
   },
   "outputs": [
    {
     "data": {
      "text/plain": [
       "array([ 0.91468415,  0.03166569])"
      ]
     },
     "execution_count": 22,
     "metadata": {},
     "output_type": "execute_result"
    }
   ],
   "source": [
    "model_dr.explained_variance_ratio_"
   ]
  },
  {
   "cell_type": "code",
   "execution_count": 23,
   "metadata": {
    "collapsed": false
   },
   "outputs": [
    {
     "data": {
      "image/png": "[encoded data removed]",
      "text/plain": [
       "<matplotlib.figure.Figure at 0x2b1ee128>"
      ]
     },
     "metadata": {},
     "output_type": "display_data"
    }
   ],
   "source": [
    "import matplotlib.pyplot as plt\n",
    "%matplotlib inline\n",
    "\n",
    "fig, ax = plt.subplots(figsize=(8, 6))\n",
    "ax.scatter(X_dr[:, 0], X_dr[:, 1])\n",
    "\n",
    "for i, txt in enumerate(data[:100]):\n",
    "    ax.annotate(txt, (X_dr[i, 0], X_dr[i, 1]))"
   ]
  },
  {
   "cell_type": "code",
   "execution_count": null,
   "metadata": {
    "collapsed": true
   },
   "outputs": [],
   "source": []
  }
 ],
 "metadata": {
  "kernelspec": {
   "display_name": "Python 2",
   "language": "python",
   "name": "python2"
  },
  "language_info": {
   "codemirror_mode": {
    "name": "ipython",
    "version": 2
   },
   "file_extension": ".py",
   "mimetype": "text/x-python",
   "name": "python",
   "nbconvert_exporter": "python",
   "pygments_lexer": "ipython2",
   "version": "2.7.11"
  }
 },
 "nbformat": 4,
 "nbformat_minor": 0
}
