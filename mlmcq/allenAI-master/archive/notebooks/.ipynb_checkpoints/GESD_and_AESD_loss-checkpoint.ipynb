{
 "cells": [
  {
   "cell_type": "code",
   "execution_count": 21,
   "metadata": {
    "collapsed": false
   },
   "outputs": [],
   "source": [
    "import theano.tensor as T\n",
    "from theano import function\n",
    "\n",
    "def mean(x, axis=None, keepdims=False):\n",
    "    return T.mean(x, axis=axis, keepdims=keepdims)\n",
    "\n",
    "def l2_normalize(x, axis):\n",
    "    norm = T.sqrt(T.sum(T.square(x), axis=axis, keepdims=True))\n",
    "    return x / norm\n",
    "\n",
    "def cosine_similarity(y_true, y_pred):\n",
    "    assert y_true.ndim == 2\n",
    "    assert y_pred.ndim == 2\n",
    "    y_true = l2_normalize(y_true, axis=1)\n",
    "    y_pred = l2_normalize(y_pred, axis=1)\n",
    "    return T.sum(y_true * y_pred, axis=1, keepdims=False)\n",
    "\n",
    "def GESD(y_true, y_pred):\n",
    "    assert y_true.ndim == 2\n",
    "    assert y_pred.ndim == 2\n",
    "    y_true = l2_normalize(y_true, axis=1)\n",
    "    y_pred = l2_normalize(y_pred, axis=1)\n",
    "    eucledian_dist = T.sqrt(T.sum(T.square(y_true - y_pred), axis=1, keepdims=True))\n",
    "    part1 = 1.0 / (1.0 + eucledian_dist)\n",
    "    gamma = 1.0\n",
    "    c = 1.0\n",
    "    part2 = 1.0 / (1.0 + T.exp(-gamma * (T.sum(y_true * y_pred, axis=1, keepdims=False) + c)))\n",
    "    return T.sum(part1 * part2, axis=1, keepdims=False)\n",
    "\n",
    "def AESD(y_true, y_pred):\n",
    "    assert y_true.ndim == 2\n",
    "    assert y_pred.ndim == 2\n",
    "    y_true = l2_normalize(y_true, axis=1)\n",
    "    y_pred = l2_normalize(y_pred, axis=1)\n",
    "    eucledian_dist = T.sqrt(T.sum(T.square(y_true - y_pred), axis=1, keepdims=True))\n",
    "    part1 = 1.0 / (1.0 + eucledian_dist)\n",
    "    gamma = 1.0\n",
    "    c = 1.0\n",
    "    part2 = 1.0 / (1.0 + T.exp(-gamma * (T.sum(y_true * y_pred, axis=1, keepdims=False) + c)))\n",
    "    return T.sum(part1 + part2, axis=1, keepdims=False)\n",
    "\n",
    "def GESD_ranking_loss(y_true, y_pred):\n",
    "    MARGIN = 0.01\n",
    "    \n",
    "    q = y_pred[0::3]\n",
    "    a_correct = y_pred[1::3]\n",
    "    a_incorrect = y_pred[2::3]\n",
    "\n",
    "    return mean(T.maximum(0., MARGIN - GESD(q, a_correct) + GESD(q, a_incorrect)) - y_true[0]*0, axis=-1)\n",
    "\n",
    "def AESD_ranking_loss(y_true, y_pred):\n",
    "    MARGIN = 0.01\n",
    "    \n",
    "    q = y_pred[0::3]\n",
    "    a_correct = y_pred[1::3]\n",
    "    a_incorrect = y_pred[2::3]\n",
    "\n",
    "    return mean(T.maximum(0., MARGIN - AESD(q, a_correct) + AESD(q, a_incorrect)) - y_true[0]*0, axis=-1)"
   ]
  },
  {
   "cell_type": "markdown",
   "metadata": {},
   "source": [
    "### test"
   ]
  },
  {
   "cell_type": "code",
   "execution_count": 22,
   "metadata": {
    "collapsed": false
   },
   "outputs": [],
   "source": [
    "x = T.dmatrix('x')\n",
    "y = T.dmatrix('y')\n",
    "z = GESD(x, y)\n",
    "f = function([x, y], z)"
   ]
  },
  {
   "cell_type": "code",
   "execution_count": 23,
   "metadata": {
    "collapsed": false
   },
   "outputs": [
    {
     "data": {
      "text/plain": [
       "array([ 3.08471957,  1.27773268,  3.08471957,  1.10005398])"
      ]
     },
     "execution_count": 23,
     "metadata": {},
     "output_type": "execute_result"
    }
   ],
   "source": [
    "y = [[1, 0], [1, 0], [3, 4], [1.2, -3.2]]\n",
    "preds = [[1, 0], [0, 1], [3, 4], [1.3, 2.2]]\n",
    "\n",
    "f(y, preds)"
   ]
  },
  {
   "cell_type": "code",
   "execution_count": 24,
   "metadata": {
    "collapsed": false
   },
   "outputs": [],
   "source": [
    "x = T.dmatrix('x')\n",
    "y = T.dmatrix('y')\n",
    "z = AESD(x, y)\n",
    "f = function([x, y], z)"
   ]
  },
  {
   "cell_type": "code",
   "execution_count": 25,
   "metadata": {
    "collapsed": false
   },
   "outputs": [
    {
     "data": {
      "text/plain": [
       "array([ 7.08471957,  4.74157381,  7.08471957,  4.51117531])"
      ]
     },
     "execution_count": 25,
     "metadata": {},
     "output_type": "execute_result"
    }
   ],
   "source": [
    "y = [[1, 0], [1, 0], [3, 4], [1.2, -3.2]]\n",
    "preds = [[1, 0], [0, 1], [3, 4], [1.3, 2.2]]\n",
    "\n",
    "f(y, preds)"
   ]
  },
  {
   "cell_type": "code",
   "execution_count": null,
   "metadata": {
    "collapsed": true
   },
   "outputs": [],
   "source": []
  },
  {
   "cell_type": "code",
   "execution_count": 27,
   "metadata": {
    "collapsed": false
   },
   "outputs": [
    {
     "name": "stdout",
     "output_type": "stream",
     "text": [
      "Using Theano backend.\n",
      "Creating data...\n",
      "Sample data:\n",
      "9+7\n",
      "16\n",
      "0\n",
      "Tokenizing data...\n",
      "Converting text to sequences...\n",
      "Sample sequences:\n",
      "[11, 2, 6]\n",
      "[1, 3]\n",
      "[8]\n",
      "Questions maxlen: 3\n",
      "Padding sequences...\n",
      "Sample padded sequences:\n",
      "[11  2  6]\n",
      "[0 1 3]\n",
      "[0 0 8]\n"
     ]
    }
   ],
   "source": [
    "from keras.layers.embeddings import Embedding\n",
    "from keras.layers.core import Dense, Merge, TimeDistributedMerge\n",
    "from keras.layers import recurrent\n",
    "from keras.models import Sequential\n",
    "from keras.layers.convolutional import MaxPooling1D\n",
    "from keras.preprocessing.sequence import pad_sequences\n",
    "from keras.preprocessing.text import Tokenizer\n",
    "\n",
    "import numpy as np\n",
    "\n",
    "print \"Creating data...\"\n",
    "\n",
    "data = []\n",
    "for i in xrange(1000):\n",
    "    q0 = np.random.choice(range(10))\n",
    "    q1 = np.random.choice(range(10))\n",
    "    q = str(q0) + \"+\" + str(q1)\n",
    "    a_correct = str(q0 + q1)\n",
    "    a_incorrect = str(np.random.choice(range(19)))\n",
    "    data.append(q)\n",
    "    data.append(a_correct)\n",
    "    data.append(a_incorrect)\n",
    "    \n",
    "print \"Sample data:\"\n",
    "for i in xrange(3):\n",
    "    print data[i]\n",
    "    \n",
    "print \"Tokenizing data...\"\n",
    "tokenizer = Tokenizer(filters='', lower=False)\n",
    "char_data = [' '.join(list(x)) for x in data]\n",
    "tokenizer.fit_on_texts(char_data)\n",
    "\n",
    "print \"Converting text to sequences...\"\n",
    "data_seq = tokenizer.texts_to_sequences(char_data)\n",
    "\n",
    "print \"Sample sequences:\"\n",
    "for i in xrange(3):\n",
    "    print data_seq[i]\n",
    "    \n",
    "data_maxlen = max([len(q) for q in data_seq])\n",
    "print \"Questions maxlen:\", data_maxlen\n",
    "\n",
    "print \"Padding sequences...\"\n",
    "data_seq_pad = pad_sequences(data_seq, maxlen=data_maxlen) \n",
    "\n",
    "print \"Sample padded sequences:\"\n",
    "for i in xrange(3):\n",
    "    print data_seq_pad[i]    "
   ]
  },
  {
   "cell_type": "code",
   "execution_count": 28,
   "metadata": {
    "collapsed": false
   },
   "outputs": [
    {
     "name": "stdout",
     "output_type": "stream",
     "text": [
      "Creating model...\n",
      "Vocab_size:  12\n",
      "Timesteps:  3\n"
     ]
    }
   ],
   "source": [
    "print \"Creating model...\"\n",
    "\n",
    "vocab_size = len(tokenizer.word_index) + 1\n",
    "embed_size = 5\n",
    "hidden_size = 10\n",
    "timesteps = data_maxlen\n",
    "RNN = recurrent.LSTM\n",
    "\n",
    "print \"Vocab_size: \", vocab_size\n",
    "print \"Timesteps: \", timesteps\n",
    "\n",
    "model = Sequential()\n",
    "model.add(Embedding(vocab_size, embed_size, mask_zero=True))\n",
    "model.add(RNN(hidden_size, return_sequences=False))"
   ]
  },
  {
   "cell_type": "code",
   "execution_count": 29,
   "metadata": {
    "collapsed": false
   },
   "outputs": [
    {
     "name": "stdout",
     "output_type": "stream",
     "text": [
      "--------------------------------------------------------------------------------\n",
      "Initial input shape: (None, 12)\n",
      "--------------------------------------------------------------------------------\n",
      "Layer (name)                  Output Shape                  Param #             \n",
      "--------------------------------------------------------------------------------\n",
      "Embedding (embedding)         (None, None, 5)               60                  \n",
      "LSTM (lstm)                   (None, 10)                    640                 \n",
      "--------------------------------------------------------------------------------\n",
      "Total params: 700\n",
      "--------------------------------------------------------------------------------\n"
     ]
    }
   ],
   "source": [
    "model.summary()"
   ]
  },
  {
   "cell_type": "code",
   "execution_count": 31,
   "metadata": {
    "collapsed": false
   },
   "outputs": [
    {
     "name": "stdout",
     "output_type": "stream",
     "text": [
      "Compiling model...\n"
     ]
    }
   ],
   "source": [
    "print \"Compiling model...\"\n",
    "model.compile(optimizer=\"adam\", loss=GESD_ranking_loss)"
   ]
  },
  {
   "cell_type": "code",
   "execution_count": 32,
   "metadata": {
    "collapsed": false
   },
   "outputs": [
    {
     "name": "stdout",
     "output_type": "stream",
     "text": [
      "Epoch 1/10\n",
      "3000/3000 [==============================] - 2s - loss: 0.0128     \n",
      "Epoch 2/10\n",
      "3000/3000 [==============================] - 2s - loss: 0.0065     \n",
      "Epoch 3/10\n",
      "3000/3000 [==============================] - 2s - loss: 0.0058     \n",
      "Epoch 4/10\n",
      "3000/3000 [==============================] - 2s - loss: 0.0053     \n",
      "Epoch 5/10\n",
      "3000/3000 [==============================] - 2s - loss: 0.0052     \n",
      "Epoch 6/10\n",
      "3000/3000 [==============================] - 2s - loss: 0.0048     \n",
      "Epoch 7/10\n",
      "3000/3000 [==============================] - 2s - loss: 0.0043     \n",
      "Epoch 8/10\n",
      "3000/3000 [==============================] - 3s - loss: 0.0036     \n",
      "Epoch 9/10\n",
      "3000/3000 [==============================] - 3s - loss: 0.0034     \n",
      "Epoch 10/10\n",
      "3000/3000 [==============================] - 3s - loss: 0.0029     \n"
     ]
    },
    {
     "data": {
      "text/plain": [
       "<keras.callbacks.History at 0x18589e48>"
      ]
     },
     "execution_count": 32,
     "metadata": {},
     "output_type": "execute_result"
    }
   ],
   "source": [
    "_ = [0 for i in xrange(len(data_seq_pad))]\n",
    "model.fit(data_seq_pad, _, batch_size=6, nb_epoch=10, shuffle=False, validation_split=0.0)"
   ]
  },
  {
   "cell_type": "code",
   "execution_count": 37,
   "metadata": {
    "collapsed": false
   },
   "outputs": [
    {
     "name": "stdout",
     "output_type": "stream",
     "text": [
      "Compiling model...\n"
     ]
    }
   ],
   "source": [
    "print \"Compiling model...\"\n",
    "model.compile(optimizer=\"adam\", loss=AESD_ranking_loss)"
   ]
  },
  {
   "cell_type": "code",
   "execution_count": 39,
   "metadata": {
    "collapsed": false
   },
   "outputs": [
    {
     "name": "stdout",
     "output_type": "stream",
     "text": [
      "Epoch 1/10\n",
      "12/12 [==============================] - 0s - loss: 0.0015         \n",
      "Epoch 2/10\n",
      "12/12 [==============================] - 0s - loss: 0.0000e+00     \n",
      "Epoch 3/10\n",
      "12/12 [==============================] - 0s - loss: 0.0000e+00     \n",
      "Epoch 4/10\n",
      "12/12 [==============================] - 0s - loss: 0.0000e+00     \n",
      "Epoch 5/10\n",
      "12/12 [==============================] - 0s - loss: 0.0000e+00     \n",
      "Epoch 6/10\n",
      "12/12 [==============================] - 0s - loss: 0.0000e+00     \n",
      "Epoch 7/10\n",
      "12/12 [==============================] - 0s - loss: 0.0000e+00     \n",
      "Epoch 8/10\n",
      "12/12 [==============================] - 0s - loss: 0.0000e+00     \n",
      "Epoch 9/10\n",
      "12/12 [==============================] - 0s - loss: 0.0000e+00     \n",
      "Epoch 10/10\n",
      "12/12 [==============================] - 0s - loss: 0.0000e+00     \n"
     ]
    },
    {
     "data": {
      "text/plain": [
       "<keras.callbacks.History at 0x23cb3f98>"
      ]
     },
     "execution_count": 39,
     "metadata": {},
     "output_type": "execute_result"
    }
   ],
   "source": [
    "sub_seq_pad = data_seq_pad[:12][:]\n",
    "_ = [0 for i in xrange(len(sub_seq_pad))]\n",
    "model.fit(sub_seq_pad, _, batch_size=6, nb_epoch=10, shuffle=False, validation_split=0.0)"
   ]
  },
  {
   "cell_type": "code",
   "execution_count": null,
   "metadata": {
    "collapsed": true
   },
   "outputs": [],
   "source": []
  }
 ],
 "metadata": {
  "kernelspec": {
   "display_name": "Python 2",
   "language": "python",
   "name": "python2"
  },
  "language_info": {
   "codemirror_mode": {
    "name": "ipython",
    "version": 2
   },
   "file_extension": ".py",
   "mimetype": "text/x-python",
   "name": "python",
   "nbconvert_exporter": "python",
   "pygments_lexer": "ipython2",
   "version": "2.7.11"
  }
 },
 "nbformat": 4,
 "nbformat_minor": 0
}
