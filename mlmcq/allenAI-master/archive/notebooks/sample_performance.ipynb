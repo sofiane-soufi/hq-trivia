{
 "cells": [
  {
   "cell_type": "code",
   "execution_count": 1,
   "metadata": {
    "collapsed": false
   },
   "outputs": [
    {
     "name": "stdout",
     "output_type": "stream",
     "text": [
      "Using Theano backend.\n"
     ]
    },
    {
     "name": "stderr",
     "output_type": "stream",
     "text": [
      "Using gpu device 0: Tesla K20m (CNMeM is disabled)\n"
     ]
    }
   ],
   "source": [
    "import argparse\n",
    "import csv\n",
    "from random import shuffle\n",
    "from model import *\n",
    "from preprocess import *"
   ]
  },
  {
   "cell_type": "code",
   "execution_count": 2,
   "metadata": {
    "collapsed": true
   },
   "outputs": [],
   "source": [
    "  parser = argparse.ArgumentParser()\n",
    "  parser.add_argument(\"model_path\")\n",
    "  parser.add_argument(\"output_path\")\n",
    "  parser.add_argument(\"--data_path\", default=\"/storage/hpc_tanel/allenAI/studystack_qa_cleaner_no_qm.txt\")\n",
    "  parser.add_argument(\"--load_tokenizer\", default=\"model/tokenizer_studystack_full.pkl\")\n",
    "  parser.add_argument(\"--macrobatch_size\", type=int, default=1000)\n",
    "  parser.add_argument(\"--min_margin\", type=float)\n",
    "  parser.add_argument(\"--max_margin\", type=float)\n",
    "  parser.add_argument(\"--load_arch\")\n",
    "  parser.add_argument(\"--save_arch\")\n",
    "  add_model_params(parser)\n",
    "  add_training_params(parser)\n",
    "  add_data_params(parser)\n",
    "  args = parser.parse_args(\"--data_path /storage/hpc_tanel/allenAI/studystack_qa_cleaner_no_qm.txt --load_tokenizer ../model/tokenizer_studystack_full.pkl ../model/studystack_margin0.2_30_acc_0.4132.hdf5 test.txt\".split())\n"
   ]
  },
  {
   "cell_type": "code",
   "execution_count": 3,
   "metadata": {
    "collapsed": false
   },
   "outputs": [
    {
     "name": "stdout",
     "output_type": "stream",
     "text": [
      "Loading tokenizer...\n",
      "Vocabulary size: 108891\n"
     ]
    }
   ],
   "source": [
    "  print \"Loading tokenizer...\"\n",
    "  tokenizer = load_tokenizer(args.load_tokenizer)\n",
    "  vocab_size = vocabulary_size(tokenizer)\n",
    "  print \"Vocabulary size:\", vocab_size"
   ]
  },
  {
   "cell_type": "code",
   "execution_count": 4,
   "metadata": {
    "collapsed": false
   },
   "outputs": [
    {
     "name": "stdout",
     "output_type": "stream",
     "text": [
      "Creating model...\n"
     ]
    }
   ],
   "source": [
    "  if args.load_arch:\n",
    "    print \"Loading model architecture from\", args.load_arch\n",
    "    model = model_from_json(args.load_arch)\n",
    "  else:\n",
    "    print \"Creating model...\"\n",
    "    model = create_model(vocab_size, args)"
   ]
  },
  {
   "cell_type": "code",
   "execution_count": 5,
   "metadata": {
    "collapsed": false
   },
   "outputs": [
    {
     "name": "stdout",
     "output_type": "stream",
     "text": [
      "--------------------------------------------------------------------------------\n",
      "Initial input shape: (None, 108891)\n",
      "--------------------------------------------------------------------------------\n",
      "Layer (name)                  Output Shape                  Param #             \n",
      "--------------------------------------------------------------------------------\n",
      "Embedding (embedding)         (None, None, 300)             32667300            \n",
      "GRU (gru)                     (None, 1024)                  4070400             \n",
      "--------------------------------------------------------------------------------\n",
      "Total params: 36737700\n",
      "--------------------------------------------------------------------------------\n"
     ]
    }
   ],
   "source": [
    "  model.summary()"
   ]
  },
  {
   "cell_type": "code",
   "execution_count": 6,
   "metadata": {
    "collapsed": false
   },
   "outputs": [
    {
     "name": "stdout",
     "output_type": "stream",
     "text": [
      "Loading weights from ../model/studystack_margin0.2_30_acc_0.4132.hdf5\n",
      "Compiling model...\n"
     ]
    }
   ],
   "source": [
    "  print \"Loading weights from %s\" % args.model_path\n",
    "  model.load_weights(args.model_path)\n",
    "\n",
    "  print \"Compiling model...\"\n",
    "  compile_model(model, args)"
   ]
  },
  {
   "cell_type": "code",
   "execution_count": 7,
   "metadata": {
    "collapsed": false
   },
   "outputs": [
    {
     "name": "stdout",
     "output_type": "stream",
     "text": [
      "Sampling data to test.txt\n"
     ]
    }
   ],
   "source": [
    "  print \"Sampling data to\", args.output_path\n",
    "  output = open(args.output_path, \"a\")"
   ]
  },
  {
   "cell_type": "code",
   "execution_count": 8,
   "metadata": {
    "collapsed": true
   },
   "outputs": [],
   "source": [
    "f = open(args.data_path)"
   ]
  },
  {
   "cell_type": "code",
   "execution_count": 9,
   "metadata": {
    "collapsed": true
   },
   "outputs": [],
   "source": [
    "reader = csv.reader(f, delimiter=\"\\t\", strict=True, quoting=csv.QUOTE_NONE)"
   ]
  },
  {
   "cell_type": "code",
   "execution_count": 10,
   "metadata": {
    "collapsed": false
   },
   "outputs": [
    {
     "name": "stdout",
     "output_type": "stream",
     "text": [
      "Lines: 1000\n"
     ]
    }
   ],
   "source": [
    "        # read macrobatch_size lines from reader\n",
    "        lines = list(islice(reader, args.macrobatch_size))\n",
    "        print \"Lines:\", len(lines)"
   ]
  },
  {
   "cell_type": "code",
   "execution_count": 11,
   "metadata": {
    "collapsed": false
   },
   "outputs": [
    {
     "name": "stdout",
     "output_type": "stream",
     "text": [
      "ids: 1000 questions: 1000 answers: 1000\n"
     ]
    }
   ],
   "source": [
    "        shuffle(lines)\n",
    "        ids, questions, answers = zip(*lines)\n",
    "        print \"ids:\", len(ids), \"questions:\", len(questions), \"answers:\", len(answers)"
   ]
  },
  {
   "cell_type": "code",
   "execution_count": 12,
   "metadata": {
    "collapsed": false
   },
   "outputs": [
    {
     "name": "stdout",
     "output_type": "stream",
     "text": [
      "texts: 2000\n",
      "data: (2000, 49)\n"
     ]
    }
   ],
   "source": [
    "        texts = questions + answers\n",
    "        print \"texts:\", len(texts)\n",
    "        data = text_to_data(texts, tokenizer, args.maxlen)\n",
    "        print \"data:\", data.shape"
   ]
  },
  {
   "cell_type": "code",
   "execution_count": 13,
   "metadata": {
    "collapsed": false
   },
   "outputs": [
    {
     "name": "stdout",
     "output_type": "stream",
     "text": [
      "2000/2000 [==============================] - 0s     \n",
      "pred: (2000, 1024)\n",
      "question_vectors: (1000, 1024) answer_vectors.shape (1000, 1024)\n"
     ]
    }
   ],
   "source": [
    "        pred = predict_data(model, data, args)\n",
    "        print \"pred:\", pred.shape\n",
    "        half = int(pred.shape[0] / 2)\n",
    "        question_vectors = pred[0:half]\n",
    "        answer_vectors = pred[half:]\n",
    "        print \"question_vectors:\", question_vectors.shape, \"answer_vectors.shape\", answer_vectors.shape"
   ]
  },
  {
   "cell_type": "code",
   "execution_count": 14,
   "metadata": {
    "collapsed": false
   },
   "outputs": [
    {
     "name": "stdout",
     "output_type": "stream",
     "text": [
      "1 loops, best of 3: 10.9 s per loop\n"
     ]
    }
   ],
   "source": [
    " %%timeit\n",
    "    for i, q in enumerate(question_vectors):\n",
    "          q = q[np.newaxis, ...]\n",
    "          sims = np_cosine_similarity(q, answer_vectors)\n",
    "          sorted = reversed(np.argsort(sims))\n",
    "          #print \"\"\n",
    "          #print \"question %d:\" % i, questions[i]\n",
    "          for j in sorted:\n",
    "            #print \"answer %d:\" % j, answers[j], \"(correct answer: %s)\" % answers[i]\n",
    "            #print \"similarity:\", sims[j], \"(margin %f)\" % (sims[i] - sims[j])\n",
    "            if j != i and answers[j].strip().lower() != answers[i].strip().lower() \\\n",
    "                and (args.min_margin is None or sims[i] - sims[j] > args.min_margin):\n",
    "              if (args.max_margin is None or sims[i] - sims[j] < args.max_margin):\n",
    "                output.write(questions[i]+\"\\n\")\n",
    "                output.write(answers[i]+\"\\n\")\n",
    "                output.write(answers[j]+\"\\n\")\n",
    "              else:\n",
    "                print \"discarded\"\n",
    "              break"
   ]
  },
  {
   "cell_type": "code",
   "execution_count": 20,
   "metadata": {
    "collapsed": false
   },
   "outputs": [
    {
     "name": "stdout",
     "output_type": "stream",
     "text": [
      "The slowest run took 32.09 times longer than the fastest. This could mean that an intermediate result is being cached \n",
      "1000000 loops, best of 3: 565 ns per loop\n"
     ]
    }
   ],
   "source": [
    "%%timeit\n",
    "q = question_vectors[0]\n",
    "q = q[np.newaxis, ...]"
   ]
  },
  {
   "cell_type": "code",
   "execution_count": 21,
   "metadata": {
    "collapsed": true
   },
   "outputs": [],
   "source": [
    "q = question_vectors[0]\n",
    "q = q[np.newaxis, ...]"
   ]
  },
  {
   "cell_type": "code",
   "execution_count": 22,
   "metadata": {
    "collapsed": false
   },
   "outputs": [
    {
     "name": "stdout",
     "output_type": "stream",
     "text": [
      "100 loops, best of 3: 10.7 ms per loop\n"
     ]
    }
   ],
   "source": [
    "%%timeit\n",
    "sims = np_cosine_similarity(q, answer_vectors)"
   ]
  },
  {
   "cell_type": "code",
   "execution_count": 23,
   "metadata": {
    "collapsed": false
   },
   "outputs": [
    {
     "name": "stdout",
     "output_type": "stream",
     "text": [
      "1000 loops, best of 3: 539 µs per loop\n"
     ]
    }
   ],
   "source": [
    "%%timeit\n",
    "for i, q in enumerate(question_vectors):\n",
    "      q = q[np.newaxis, ...]"
   ]
  },
  {
   "cell_type": "code",
   "execution_count": 24,
   "metadata": {
    "collapsed": false
   },
   "outputs": [
    {
     "name": "stdout",
     "output_type": "stream",
     "text": [
      "1 loops, best of 3: 10.9 s per loop\n"
     ]
    }
   ],
   "source": [
    "%%timeit\n",
    "for i, q in enumerate(question_vectors):\n",
    "      q = q[np.newaxis, ...]\n",
    "      sims = np_cosine_similarity(q, answer_vectors)"
   ]
  },
  {
   "cell_type": "code",
   "execution_count": 25,
   "metadata": {
    "collapsed": false
   },
   "outputs": [
    {
     "data": {
      "text/plain": [
       "(1000, 1024)"
      ]
     },
     "execution_count": 25,
     "metadata": {},
     "output_type": "execute_result"
    }
   ],
   "source": [
    "question_vectors.shape"
   ]
  },
  {
   "cell_type": "code",
   "execution_count": 26,
   "metadata": {
    "collapsed": false
   },
   "outputs": [
    {
     "name": "stdout",
     "output_type": "stream",
     "text": [
      "100 loops, best of 3: 10.9 ms per loop\n"
     ]
    }
   ],
   "source": [
    "%%timeit\n",
    "\n",
    "def np_l2_normalize(x, axis):\n",
    "    norm = np.sqrt(np.sum(np.square(x), axis=axis, keepdims=True))\n",
    "    return x / norm\n",
    "\n",
    "def np_cosine_similarity(y_true, y_pred):\n",
    "    assert y_true.ndim == 2\n",
    "    assert y_pred.ndim == 2\n",
    "    y_true = np_l2_normalize(y_true, axis=1)\n",
    "    y_pred = np_l2_normalize(y_pred, axis=1)\n",
    "    return np.sum(y_true * y_pred, axis=1, keepdims=False)\n",
    "\n",
    "sims = np_cosine_similarity(q, answer_vectors)"
   ]
  },
  {
   "cell_type": "code",
   "execution_count": 27,
   "metadata": {
    "collapsed": false
   },
   "outputs": [
    {
     "name": "stdout",
     "output_type": "stream",
     "text": [
      "The slowest run took 8.46 times longer than the fastest. This could mean that an intermediate result is being cached \n",
      "10000 loops, best of 3: 26.1 µs per loop\n"
     ]
    }
   ],
   "source": [
    "%%timeit\n",
    "np_l2_normalize(q, axis=1)"
   ]
  },
  {
   "cell_type": "code",
   "execution_count": 28,
   "metadata": {
    "collapsed": false
   },
   "outputs": [
    {
     "name": "stdout",
     "output_type": "stream",
     "text": [
      "100 loops, best of 3: 7.21 ms per loop\n"
     ]
    }
   ],
   "source": [
    "%%timeit\n",
    "np_l2_normalize(answer_vectors, axis=1)"
   ]
  },
  {
   "cell_type": "code",
   "execution_count": 29,
   "metadata": {
    "collapsed": false
   },
   "outputs": [
    {
     "name": "stdout",
     "output_type": "stream",
     "text": [
      "100 loops, best of 3: 2.57 ms per loop\n"
     ]
    }
   ],
   "source": [
    "%%timeit\n",
    "np.sum(q * answer_vectors, axis=1, keepdims=False)"
   ]
  },
  {
   "cell_type": "code",
   "execution_count": 30,
   "metadata": {
    "collapsed": true
   },
   "outputs": [],
   "source": [
    "x = answer_vectors\n",
    "axis = 1"
   ]
  },
  {
   "cell_type": "code",
   "execution_count": 31,
   "metadata": {
    "collapsed": false
   },
   "outputs": [
    {
     "name": "stdout",
     "output_type": "stream",
     "text": [
      "100 loops, best of 3: 7.44 ms per loop\n"
     ]
    }
   ],
   "source": [
    "%%timeit\n",
    "norm = np.sqrt(np.sum(np.square(x), axis=axis, keepdims=True))\n",
    "y = x / norm"
   ]
  },
  {
   "cell_type": "code",
   "execution_count": 32,
   "metadata": {
    "collapsed": false
   },
   "outputs": [
    {
     "name": "stdout",
     "output_type": "stream",
     "text": [
      "1000 loops, best of 3: 1.58 ms per loop\n"
     ]
    }
   ],
   "source": [
    "%%timeit\n",
    "x1 = np.square(x)"
   ]
  },
  {
   "cell_type": "code",
   "execution_count": 33,
   "metadata": {
    "collapsed": true
   },
   "outputs": [],
   "source": [
    "x1 = np.square(x)"
   ]
  },
  {
   "cell_type": "code",
   "execution_count": 34,
   "metadata": {
    "collapsed": false
   },
   "outputs": [
    {
     "name": "stdout",
     "output_type": "stream",
     "text": [
      "1000 loops, best of 3: 655 µs per loop\n"
     ]
    }
   ],
   "source": [
    "%%timeit\n",
    "np.sum(x1, axis=axis, keepdims=True)"
   ]
  },
  {
   "cell_type": "code",
   "execution_count": 35,
   "metadata": {
    "collapsed": false
   },
   "outputs": [
    {
     "name": "stdout",
     "output_type": "stream",
     "text": [
      "(1000, 1)\n"
     ]
    }
   ],
   "source": [
    "x2 = np.sum(x1, axis=axis, keepdims=True)\n",
    "print x2.shape"
   ]
  },
  {
   "cell_type": "code",
   "execution_count": 36,
   "metadata": {
    "collapsed": false
   },
   "outputs": [
    {
     "name": "stdout",
     "output_type": "stream",
     "text": [
      "The slowest run took 17.92 times longer than the fastest. This could mean that an intermediate result is being cached \n",
      "100000 loops, best of 3: 7.2 µs per loop\n"
     ]
    }
   ],
   "source": [
    "%%timeit\n",
    "norm = np.sqrt(x2)"
   ]
  },
  {
   "cell_type": "code",
   "execution_count": 37,
   "metadata": {
    "collapsed": false
   },
   "outputs": [
    {
     "name": "stdout",
     "output_type": "stream",
     "text": [
      "(1000, 1024) (1000, 1)\n"
     ]
    }
   ],
   "source": [
    "norm = np.sqrt(x2)\n",
    "print x.shape, norm.shape"
   ]
  },
  {
   "cell_type": "code",
   "execution_count": 38,
   "metadata": {
    "collapsed": false
   },
   "outputs": [
    {
     "name": "stdout",
     "output_type": "stream",
     "text": [
      "100 loops, best of 3: 5.02 ms per loop\n"
     ]
    }
   ],
   "source": [
    "%%timeit\n",
    "x / norm"
   ]
  },
  {
   "cell_type": "code",
   "execution_count": 40,
   "metadata": {
    "collapsed": false
   },
   "outputs": [],
   "source": [
    "from sklearn.metrics.pairwise import pairwise_distances"
   ]
  },
  {
   "cell_type": "code",
   "execution_count": 41,
   "metadata": {
    "collapsed": true
   },
   "outputs": [],
   "source": [
    "dists = pairwise_distances(question_vectors, answer_vectors, metric=\"cosine\", n_jobs=1)"
   ]
  },
  {
   "cell_type": "code",
   "execution_count": 42,
   "metadata": {
    "collapsed": false
   },
   "outputs": [
    {
     "data": {
      "text/plain": [
       "(1000, 1000)"
      ]
     },
     "execution_count": 42,
     "metadata": {},
     "output_type": "execute_result"
    }
   ],
   "source": [
    "dists.shape"
   ]
  },
  {
   "cell_type": "code",
   "execution_count": 44,
   "metadata": {
    "collapsed": false
   },
   "outputs": [
    {
     "data": {
      "text/plain": [
       "(1000,)"
      ]
     },
     "execution_count": 44,
     "metadata": {},
     "output_type": "execute_result"
    }
   ],
   "source": [
    "q = question_vectors[0]\n",
    "q = q[np.newaxis, ...]\n",
    "sims = np_cosine_similarity(q, answer_vectors)\n",
    "sims.shape"
   ]
  },
  {
   "cell_type": "code",
   "execution_count": 45,
   "metadata": {
    "collapsed": false
   },
   "outputs": [
    {
     "data": {
      "text/plain": [
       "array([ 0.46994926,  0.10139717,  0.12391221,  0.35504785,  0.17364977,\n",
       "        0.17945529,  0.09990746,  0.09201521,  0.07195911,  0.04709271])"
      ]
     },
     "execution_count": 45,
     "metadata": {},
     "output_type": "execute_result"
    }
   ],
   "source": [
    "sims[:10]"
   ]
  },
  {
   "cell_type": "code",
   "execution_count": 48,
   "metadata": {
    "collapsed": false
   },
   "outputs": [
    {
     "data": {
      "text/plain": [
       "array([ 0.46994926,  0.10139717,  0.12391221,  0.35504785,  0.17364977,\n",
       "        0.17945529,  0.09990746,  0.09201521,  0.07195911,  0.04709271])"
      ]
     },
     "execution_count": 48,
     "metadata": {},
     "output_type": "execute_result"
    }
   ],
   "source": [
    "1-dists[0,:10]"
   ]
  },
  {
   "cell_type": "code",
   "execution_count": 50,
   "metadata": {
    "collapsed": false
   },
   "outputs": [
    {
     "name": "stdout",
     "output_type": "stream",
     "text": [
      "!\"#$%&'()*+,-./:;<=>?@[\\]^_`{|}~\n"
     ]
    }
   ],
   "source": [
    "import string\n",
    "print string.punctuation"
   ]
  },
  {
   "cell_type": "code",
   "execution_count": null,
   "metadata": {
    "collapsed": true
   },
   "outputs": [],
   "source": []
  }
 ],
 "metadata": {
  "kernelspec": {
   "display_name": "Python 2",
   "language": "python",
   "name": "python2"
  },
  "language_info": {
   "codemirror_mode": {
    "name": "ipython",
    "version": 2
   },
   "file_extension": ".py",
   "mimetype": "text/x-python",
   "name": "python",
   "nbconvert_exporter": "python",
   "pygments_lexer": "ipython2",
   "version": "2.7.3"
  }
 },
 "nbformat": 4,
 "nbformat_minor": 0
}
