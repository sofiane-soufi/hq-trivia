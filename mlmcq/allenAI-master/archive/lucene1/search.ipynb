{
 "cells": [
  {
   "cell_type": "code",
   "execution_count": 54,
   "metadata": {
    "collapsed": true
   },
   "outputs": [],
   "source": [
    "import sys, os, csv, lucene"
   ]
  },
  {
   "cell_type": "code",
   "execution_count": 2,
   "metadata": {
    "collapsed": true
   },
   "outputs": [],
   "source": [
    "from java.io import File\n",
    "from org.apache.lucene.analysis.standard import StandardAnalyzer\n",
    "from org.apache.lucene.index import DirectoryReader\n",
    "from org.apache.lucene.queryparser.classic import QueryParser\n",
    "from org.apache.lucene.search import IndexSearcher\n",
    "from org.apache.lucene.store import SimpleFSDirectory\n",
    "from org.apache.lucene.util import Version"
   ]
  },
  {
   "cell_type": "code",
   "execution_count": 3,
   "metadata": {
    "collapsed": false
   },
   "outputs": [
    {
     "data": {
      "text/plain": [
       "<jcc.JCCEnv at 0x7f2907cfd918>"
      ]
     },
     "execution_count": 3,
     "metadata": {},
     "output_type": "execute_result"
    }
   ],
   "source": [
    "lucene.initVM(vmargs=['-Djava.awt.headless=true'])"
   ]
  },
  {
   "cell_type": "code",
   "execution_count": 4,
   "metadata": {
    "collapsed": true
   },
   "outputs": [],
   "source": [
    "fsDir = SimpleFSDirectory(File(\"index\"))\n",
    "searcher = IndexSearcher(DirectoryReader.open(fsDir))"
   ]
  },
  {
   "cell_type": "code",
   "execution_count": 18,
   "metadata": {
    "collapsed": true
   },
   "outputs": [],
   "source": [
    "analyzer = StandardAnalyzer(Version.LUCENE_CURRENT)\n",
    "parser = QueryParser(Version.LUCENE_CURRENT, \"question\", analyzer)"
   ]
  },
  {
   "cell_type": "code",
   "execution_count": 47,
   "metadata": {
    "collapsed": false
   },
   "outputs": [],
   "source": [
    "query = parser.parse('question:When athletes begin to exercise, their heart rates and respiration rates increase.  At what level of organization does the human body coordinate these functions? answer:at the cellular level')"
   ]
  },
  {
   "cell_type": "code",
   "execution_count": 52,
   "metadata": {
    "collapsed": false
   },
   "outputs": [
    {
     "name": "stdout",
     "output_type": "stream",
     "text": [
      "5.66312217712\n"
     ]
    }
   ],
   "source": [
    "result = searcher.search(query, 10)\n",
    "print result.getMaxScore()\n",
    "scoreDocs = result.scoreDocs"
   ]
  },
  {
   "cell_type": "code",
   "execution_count": 49,
   "metadata": {
    "collapsed": false
   },
   "outputs": [
    {
     "name": "stdout",
     "output_type": "stream",
     "text": [
      "[u'When athletes begin to exercise, their heart rates and respiration rates increase. At what level of organization does the human body coordinate these functions?', u'at the system level', 5.66312313079834]\n",
      "[u'at what level of organization does life begin', u'cell', 0.9043471813201904]\n",
      "[u'At what level of organization does life begin?', u'Cells', 0.9043471813201904]\n",
      "[u'Level of Organization in the Human Body', u'Cell > Tissue > Organs > Organ Systems> Organisms', 0.8805510997772217]\n",
      "[u'What are in the Cellular level organization', u'Atoms, Molecules, Organelles, Cells', 0.8511862754821777]\n",
      "[u'What are in the Cellular level organization', u'Atoms, Molecules, Organelles, Cells', 0.8511862754821777]\n",
      "[u'What is the largest level of organization in the human body?', u'the largest level of organization in the human body is the organ system.', 0.8304603695869446]\n",
      "[u'What level in the human body would be the heart?', u'It would be a third level organ (p.510)', 0.7424818873405457]\n",
      "[u'the phenomenon that occurs when birth rates reach the same level as death rates', u'zero population growth / ZPG', 0.7170725464820862]\n",
      "[u'What is the smallest level of organization in a human?', u'Cell', 0.7135089039802551]\n"
     ]
    }
   ],
   "source": [
    "for scoreDoc in scoreDocs:\n",
    "    doc = searcher.doc(scoreDoc.doc)\n",
    "    print [doc.get(\"question\"), doc.get(\"answer\"), searcher.explain(query, scoreDoc.doc).getValue()]"
   ]
  },
  {
   "cell_type": "code",
   "execution_count": 73,
   "metadata": {
    "collapsed": false
   },
   "outputs": [],
   "source": [
    "with open(\"../data/training_set.tsv\") as f:\n",
    "    reader = csv.reader(f, delimiter=\"\\t\", strict=True, quoting=csv.QUOTE_NONE)\n",
    "    header = next(reader)  # ignore header\n",
    "    is_train_set = (len(header) == 7)\n",
    "    lines = list(reader)"
   ]
  },
  {
   "cell_type": "code",
   "execution_count": 74,
   "metadata": {
    "collapsed": false,
    "scrolled": true
   },
   "outputs": [
    {
     "name": "stdout",
     "output_type": "stream",
     "text": [
      "Correct: 1082 Total: 2500 Accuracy: 0.432800\n"
     ]
    }
   ],
   "source": [
    "def score_qa(q, a):\n",
    "    query = parser.parse('question:(%s) answer:(%s)' % (QueryParser.escape(q), QueryParser.escape(a)))\n",
    "    result = searcher.search(query, 1)\n",
    "    return result.getMaxScore()    \n",
    "\n",
    "correct = 0\n",
    "preds = []\n",
    "scores = []\n",
    "for id, q, right, a, b, c, d in lines:\n",
    "    results = [\n",
    "        score_qa(q, a),\n",
    "        score_qa(q, b),\n",
    "        score_qa(q, c),\n",
    "        score_qa(q, d),\n",
    "    ]\n",
    "\n",
    "    best = results.index(max(results))\n",
    "    best = chr(ord('A') + best)\n",
    "    preds.append(best)\n",
    "    scores.append(results)\n",
    "    \n",
    "    #print q, best, right\n",
    "    \n",
    "    if best == right:\n",
    "        correct += 1\n",
    "\n",
    "accuracy = float(correct) / len(lines)\n",
    "print \"Correct: %d Total: %d Accuracy: %f\" % (correct, len(lines), accuracy)"
   ]
  },
  {
   "cell_type": "code",
   "execution_count": 68,
   "metadata": {
    "collapsed": false
   },
   "outputs": [],
   "source": [
    "with open(\"predictions_training.csv\", \"w\") as f:\n",
    "    writer = csv.writer(f, delimiter=',', quoting=csv.QUOTE_MINIMAL)\n",
    "    for i in xrange(len(lines)):\n",
    "        writer.writerow([lines[i][0], preds[i]] + scores[i])"
   ]
  },
  {
   "cell_type": "code",
   "execution_count": 69,
   "metadata": {
    "collapsed": true
   },
   "outputs": [],
   "source": [
    "with open(\"../data/validation_set.tsv\") as f:\n",
    "    reader = csv.reader(f, delimiter=\"\\t\", strict=True, quoting=csv.QUOTE_NONE)\n",
    "    header = next(reader)  # ignore header\n",
    "    is_train_set = (len(header) == 7)\n",
    "    lines = list(reader)"
   ]
  },
  {
   "cell_type": "code",
   "execution_count": 71,
   "metadata": {
    "collapsed": false
   },
   "outputs": [],
   "source": [
    "preds = []\n",
    "scores = []\n",
    "for id, q, a, b, c, d in lines:\n",
    "    results = [\n",
    "        score_qa(q, a),\n",
    "        score_qa(q, b),\n",
    "        score_qa(q, c),\n",
    "        score_qa(q, d),\n",
    "    ]\n",
    "\n",
    "    best = results.index(max(results))\n",
    "    best = chr(ord('A') + best)\n",
    "    preds.append(best)\n",
    "    scores.append(results)\n",
    "    \n",
    "    #print q, best, right"
   ]
  },
  {
   "cell_type": "code",
   "execution_count": 72,
   "metadata": {
    "collapsed": true
   },
   "outputs": [],
   "source": [
    "with open(\"predictions_validation.csv\", \"w\") as f:\n",
    "    writer = csv.writer(f, delimiter=',', quoting=csv.QUOTE_MINIMAL)\n",
    "    for i in xrange(len(lines)):\n",
    "        writer.writerow([lines[i][0], preds[i]] + scores[i])"
   ]
  },
  {
   "cell_type": "code",
   "execution_count": null,
   "metadata": {
    "collapsed": true
   },
   "outputs": [],
   "source": []
  }
 ],
 "metadata": {
  "kernelspec": {
   "display_name": "Python 2",
   "language": "python",
   "name": "python2"
  },
  "language_info": {
   "codemirror_mode": {
    "name": "ipython",
    "version": 2
   },
   "file_extension": ".py",
   "mimetype": "text/x-python",
   "name": "python",
   "nbconvert_exporter": "python",
   "pygments_lexer": "ipython2",
   "version": "2.7.8"
  }
 },
 "nbformat": 4,
 "nbformat_minor": 0
}
